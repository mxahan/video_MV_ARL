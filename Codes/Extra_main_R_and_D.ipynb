{
 "cells": [
  {
   "cell_type": "code",
   "execution_count": 11,
   "id": "93b3dc5e",
   "metadata": {},
   "outputs": [
    {
     "ename": "ModuleNotFoundError",
     "evalue": "No module named 'losses_PT'",
     "output_type": "error",
     "traceback": [
      "\u001b[0;31m---------------------------------------------------------------------------\u001b[0m",
      "\u001b[0;31mModuleNotFoundError\u001b[0m                       Traceback (most recent call last)",
      "\u001b[0;32m/tmp/ipykernel_154/4024256625.py\u001b[0m in \u001b[0;36m<module>\u001b[0;34m\u001b[0m\n\u001b[1;32m      1\u001b[0m \u001b[0;32mimport\u001b[0m \u001b[0mimportlib\u001b[0m\u001b[0;34m\u001b[0m\u001b[0;34m\u001b[0m\u001b[0m\n\u001b[0;32m----> 2\u001b[0;31m \u001b[0;32mimport\u001b[0m \u001b[0mlosses_PT\u001b[0m\u001b[0;34m\u001b[0m\u001b[0;34m\u001b[0m\u001b[0m\n\u001b[0m",
      "\u001b[0;31mModuleNotFoundError\u001b[0m: No module named 'losses_PT'"
     ]
    }
   ],
   "source": [
    "import importlib"
   ]
  },
  {
   "cell_type": "code",
   "execution_count": null,
   "id": "aead8fa3",
   "metadata": {},
   "outputs": [],
   "source": [
    "def count_parameters(model):\n",
    "    return sum(p.numel() for p in model.parameters() if p.requires_grad)"
   ]
  },
  {
   "cell_type": "code",
   "execution_count": null,
   "id": "05c41fb0",
   "metadata": {},
   "outputs": [],
   "source": [
    "#%% Training Loop 1 (dataloader) [not important]\n",
    "j = 0\n",
    "for sample in data_loader:    \n",
    "    sample = sample.cuda()\n",
    "    optimizer.zero_grad()   # zero the gradient buffers\n",
    "    output = tan_m(net(sample[0]))\n",
    "    loss1 = L(output[0:1], output[1:2], output[2:3])\n",
    "    loss1.backward()\n",
    "\n",
    "    optimizer.step()   #%%\n",
    "    if j%500==0:\n",
    "        print(loss1.cpu())\n",
    "        # pdb.set_trace()\n",
    "    j= j+1"
   ]
  },
  {
   "cell_type": "code",
   "execution_count": null,
   "id": "42dbfa1a",
   "metadata": {},
   "outputs": [],
   "source": [
    "#%% Alternate Training Loop (functional) [not important ]\n",
    "\n",
    "tdc =  test_data(temp)\n",
    "j = 0\n",
    "net.train()\n",
    "for _ in range(1):\n",
    "    sample = torch.from_numpy(tdc.get_data_Triplet())\n",
    "    sample = sample.cuda()\n",
    "    optimizer.zero_grad()   # zero the gradient buffers\n",
    "    output = tan_m(net(sample))\n",
    "    loss1 = L(output[0:1], output[1:2],output[2:3])\n",
    "    loss1.backward()\n",
    "    if j%2000==0:\n",
    "        print(loss1.cpu())\n",
    "        # pdb.set_trace()\n",
    "    optimizer.step()   #%%\n",
    "    j= j+1"
   ]
  },
  {
   "cell_type": "code",
   "execution_count": null,
   "id": "aa091b50",
   "metadata": {},
   "outputs": [],
   "source": [
    "#%% SimCLR training loop (functional loop not efficient)\n",
    "\n",
    "optimizer = torch.optim.Adam(net.parameters(), lr=1e-4)\n",
    "\n",
    "\n",
    "L= NT_Xent(batch_size=2, temperature=0.8, world_size=1)\n",
    "L= L.cuda()\n",
    "\n",
    "tdc =  test_data(temp) # temp should be one pickle file\n",
    "j = 0\n",
    "net.train()\n",
    "\n",
    "\n",
    "for _ in range(10000):\n",
    "    s1, s2 = torch.from_numpy(tdc.get_SIMCLR_data()[0]), torch.from_numpy(tdc.get_SIMCLR_data()[1]) \n",
    "    s1, s2 =  s1.cuda(), s2.cuda()\n",
    "    optimizer.zero_grad()   # zero the gradient buffers\n",
    "    o1, o2 = net(s1),  net(s2)\n",
    "    loss1 = L(o1, o2)\n",
    "    loss1.backward()\n",
    "    optimizer.step() \n",
    "    if j%500==0:\n",
    "        print(loss1.cpu())\n",
    "        # pdb.set_trace()\n",
    "    j= j+1"
   ]
  },
  {
   "cell_type": "code",
   "execution_count": null,
   "id": "60a41539",
   "metadata": {},
   "outputs": [],
   "source": [
    "class DummyDatasetMADA(data.Dataset):\n",
    "    def __init__(self, window_size, n_channel, n_classes, n_samples):\n",
    "        self.X = np.random.rand(n_samples, n_channel, window_size, 1)\n",
    "        self.y = np.random.randint(n_classes, size=(n_samples,))\n",
    "\n",
    "    def __getitem__(self, index):\n",
    "        return self.X[index], self.y[index]\n",
    "\n",
    "    def __len__(self):\n",
    "        return self.X.shape[0]"
   ]
  },
  {
   "cell_type": "code",
   "execution_count": 1,
   "id": "6ae9fa82",
   "metadata": {},
   "outputs": [
    {
     "ename": "NameError",
     "evalue": "name 'data_loader' is not defined",
     "output_type": "error",
     "traceback": [
      "\u001b[0;31m---------------------------------------------------------------------------\u001b[0m",
      "\u001b[0;31mNameError\u001b[0m                                 Traceback (most recent call last)",
      "\u001b[0;32m/tmp/ipykernel_154/3282912069.py\u001b[0m in \u001b[0;36m<module>\u001b[0;34m\u001b[0m\n\u001b[1;32m      1\u001b[0m \u001b[0;31m#%% Test the data-loader section\u001b[0m\u001b[0;34m\u001b[0m\u001b[0;34m\u001b[0m\u001b[0;34m\u001b[0m\u001b[0m\n\u001b[0;32m----> 2\u001b[0;31m \u001b[0ms1\u001b[0m\u001b[0;34m,\u001b[0m \u001b[0ms2\u001b[0m \u001b[0;34m=\u001b[0m \u001b[0mnext\u001b[0m\u001b[0;34m(\u001b[0m\u001b[0miter\u001b[0m\u001b[0;34m(\u001b[0m\u001b[0mdata_loader\u001b[0m\u001b[0;34m)\u001b[0m\u001b[0;34m)\u001b[0m\u001b[0;34m\u001b[0m\u001b[0;34m\u001b[0m\u001b[0m\n\u001b[0m\u001b[1;32m      3\u001b[0m \u001b[0mxx\u001b[0m \u001b[0;34m=\u001b[0m \u001b[0mtorch\u001b[0m\u001b[0;34m.\u001b[0m\u001b[0mcat\u001b[0m\u001b[0;34m(\u001b[0m\u001b[0;34m(\u001b[0m\u001b[0ms1\u001b[0m\u001b[0;34m[\u001b[0m\u001b[0;36m0\u001b[0m\u001b[0;34m]\u001b[0m\u001b[0;34m,\u001b[0m \u001b[0ms2\u001b[0m\u001b[0;34m[\u001b[0m\u001b[0;36m0\u001b[0m\u001b[0;34m]\u001b[0m\u001b[0;34m)\u001b[0m\u001b[0;34m,\u001b[0m \u001b[0;36m0\u001b[0m\u001b[0;34m)\u001b[0m\u001b[0;34m\u001b[0m\u001b[0;34m\u001b[0m\u001b[0m\n\u001b[1;32m      4\u001b[0m \u001b[0mxx\u001b[0m\u001b[0;34m.\u001b[0m\u001b[0mshape\u001b[0m\u001b[0;34m\u001b[0m\u001b[0;34m\u001b[0m\u001b[0m\n",
      "\u001b[0;31mNameError\u001b[0m: name 'data_loader' is not defined"
     ]
    }
   ],
   "source": [
    "#%% Test the data-loader section\n",
    "s1, s2 = next(iter(data_loader))\n",
    "xx = torch.cat((s1[0], s2[0]), 0)\n",
    "xx.shape"
   ]
  },
  {
   "cell_type": "code",
   "execution_count": 2,
   "id": "1ab3c32e",
   "metadata": {},
   "outputs": [
    {
     "ename": "NameError",
     "evalue": "name 'data_loader' is not defined",
     "output_type": "error",
     "traceback": [
      "\u001b[0;31m---------------------------------------------------------------------------\u001b[0m",
      "\u001b[0;31mNameError\u001b[0m                                 Traceback (most recent call last)",
      "\u001b[0;32m/tmp/ipykernel_154/1643416592.py\u001b[0m in \u001b[0;36m<module>\u001b[0;34m\u001b[0m\n\u001b[1;32m      1\u001b[0m \u001b[0;31m#%% Test the data-loader section by visualization\u001b[0m\u001b[0;34m\u001b[0m\u001b[0;34m\u001b[0m\u001b[0;34m\u001b[0m\u001b[0m\n\u001b[0;32m----> 2\u001b[0;31m \u001b[0ms1\u001b[0m\u001b[0;34m,\u001b[0m\u001b[0ms2\u001b[0m\u001b[0;34m=\u001b[0m \u001b[0mnext\u001b[0m\u001b[0;34m(\u001b[0m\u001b[0miter\u001b[0m\u001b[0;34m(\u001b[0m\u001b[0mdata_loader\u001b[0m\u001b[0;34m)\u001b[0m\u001b[0;34m)\u001b[0m\u001b[0;34m\u001b[0m\u001b[0;34m\u001b[0m\u001b[0m\n\u001b[0m\u001b[1;32m      3\u001b[0m \u001b[0ms1_trx\u001b[0m \u001b[0;34m=\u001b[0m \u001b[0mtrx\u001b[0m\u001b[0;34m(\u001b[0m\u001b[0ms1\u001b[0m\u001b[0;34m)\u001b[0m\u001b[0;34m\u001b[0m\u001b[0;34m\u001b[0m\u001b[0m\n\u001b[1;32m      4\u001b[0m \u001b[0;32mfor\u001b[0m \u001b[0mi\u001b[0m \u001b[0;32min\u001b[0m \u001b[0mrange\u001b[0m \u001b[0;34m(\u001b[0m\u001b[0;36m7\u001b[0m\u001b[0;34m)\u001b[0m\u001b[0;34m:\u001b[0m\u001b[0;34m\u001b[0m\u001b[0;34m\u001b[0m\u001b[0m\n\u001b[1;32m      5\u001b[0m     \u001b[0mplt\u001b[0m\u001b[0;34m.\u001b[0m\u001b[0mimshow\u001b[0m\u001b[0;34m(\u001b[0m\u001b[0mnp\u001b[0m\u001b[0;34m.\u001b[0m\u001b[0mmoveaxis\u001b[0m\u001b[0;34m(\u001b[0m\u001b[0;34m(\u001b[0m\u001b[0ms1\u001b[0m\u001b[0;34m[\u001b[0m\u001b[0;36m0\u001b[0m\u001b[0;34m]\u001b[0m\u001b[0;34m[\u001b[0m\u001b[0mi\u001b[0m\u001b[0;34m,\u001b[0m\u001b[0;34m:\u001b[0m\u001b[0;34m,\u001b[0m\u001b[0;36m0\u001b[0m\u001b[0;34m,\u001b[0m\u001b[0;34m:\u001b[0m\u001b[0;34m,\u001b[0m\u001b[0;34m:\u001b[0m\u001b[0;34m]\u001b[0m\u001b[0;34m)\u001b[0m\u001b[0;34m.\u001b[0m\u001b[0mcpu\u001b[0m\u001b[0;34m(\u001b[0m\u001b[0;34m)\u001b[0m\u001b[0;34m.\u001b[0m\u001b[0mnumpy\u001b[0m\u001b[0;34m(\u001b[0m\u001b[0;34m)\u001b[0m\u001b[0;34m,\u001b[0m \u001b[0;36m0\u001b[0m\u001b[0;34m,\u001b[0m\u001b[0;36m2\u001b[0m\u001b[0;34m)\u001b[0m\u001b[0;34m,\u001b[0m \u001b[0mvmin\u001b[0m\u001b[0;34m=\u001b[0m\u001b[0;36m0.\u001b[0m\u001b[0;34m,\u001b[0m \u001b[0mvmax\u001b[0m\u001b[0;34m=\u001b[0m\u001b[0;36m1.\u001b[0m\u001b[0;34m)\u001b[0m\u001b[0;34m\u001b[0m\u001b[0;34m\u001b[0m\u001b[0m\n",
      "\u001b[0;31mNameError\u001b[0m: name 'data_loader' is not defined"
     ]
    }
   ],
   "source": [
    "#%% Test the data-loader section by visualization\n",
    "s1,s2= next(iter(data_loader))\n",
    "s1_trx = trx(s1)\n",
    "for i in range (7):\n",
    "    plt.imshow(np.moveaxis((s1[0][i,:,0,:,:]).cpu().numpy(), 0,2), vmin=0., vmax=1.)\n",
    "    plt.figure()\n",
    "    plt.imshow(np.moveaxis((s2[0][i,:,0,:,:]).cpu().numpy(), 0,2), vmin=0., vmax=1.)\n",
    "    plt.figure()"
   ]
  },
  {
   "cell_type": "code",
   "execution_count": null,
   "id": "9ce805d5",
   "metadata": {},
   "outputs": [],
   "source": [
    "s1,s2= next(iter(data_loader))\n",
    "# s1_trx = trx(s1)\n",
    "for i in range(4):\n",
    "    l1 = np.moveaxis((s1[0][i,:,0,:,:]).cpu().numpy(), 0,2)\n",
    "#     fig1 = plt.gcf()\n",
    "#     plt.plot()\n",
    "#     plt.imshow(l1)\n",
    "#     fig1.savefig('myimage'+ str(i) + '.png', format='png', dpi=1200)\n",
    "#     plt.figure()\n",
    "#     fig2 = plt.gcf()\n",
    "    l2 = np.moveaxis((s2[0][i,:,0,:,:]).cpu().numpy(), 0,2)\n",
    "#     plt.plot()\n",
    "    plt.imshow(l2)\n",
    "#     fig2.savefig('myimage0'+ str(i) + '.png', format='png', dpi=1200)\n",
    "#     plt.figure()\n",
    "#     plt.imshow(np.moveaxis((s2[0][i,:,0,:,:]).cpu().numpy(), 0,2), vmin=0., vmax=1.)\n",
    "#     plt.figure()\n",
    "#     print(get_key(LabelDict, s2[0][i]))"
   ]
  },
  {
   "cell_type": "code",
   "execution_count": null,
   "id": "f981349d",
   "metadata": {},
   "outputs": [],
   "source": [
    "#https://theailearner.com/2018/10/15/creating-video-from-images-using-opencv-python/\n",
    "def video_save(sp_images, size = (300, 300)):\n",
    "    out = cv2.VideoWriter('project.avi',cv2.VideoWriter_fourcc(*'DIVX'), 15, size)    \n",
    "    for i in range(len(sp_images)):\n",
    "        out.write(sp_images[i])\n",
    "    out.release()"
   ]
  },
  {
   "cell_type": "code",
   "execution_count": null,
   "id": "8a1cff1b",
   "metadata": {},
   "outputs": [],
   "source": [
    "#%% create a binary pickle file for label_info\n",
    "path = \"../label_info.pkl\"\n",
    "def save_dict(dict, path):\n",
    "    f = open(path,\"wb\")\n",
    "\n",
    "    pickle.dump(dict,f)\n",
    "    f.close()\n",
    "    \n",
    "save_dict(label_info, path)\n",
    "def load_dict(path):\n",
    "\n",
    "    with open(path, 'rb') as f:\n",
    "        x = pickle.load(f)\n",
    "    \n",
    "    return x\n",
    "\n",
    "ss =  load_dict(path)"
   ]
  },
  {
   "cell_type": "code",
   "execution_count": null,
   "id": "ae499df3",
   "metadata": {},
   "outputs": [],
   "source": [
    "s1 = next(iter(data_loader))\n",
    "\n",
    "with torch.no_grad():\n",
    "    net.train()\n",
    "    s1 = trx(s1)\n",
    "    s1= s1[0].cuda()\n",
    "    opt = net(s1)\n",
    "    opt0 = net(s1[0:1])\n",
    "    \n",
    "print(opt[1])\n",
    "print(opt0)\n"
   ]
  },
  {
   "cell_type": "code",
   "execution_count": null,
   "id": "d93d0ae3",
   "metadata": {},
   "outputs": [],
   "source": [
    "#%% some data visualization\n",
    "plt.imshow(np.moveaxis((sample[0,:,0,:,:]).cpu().numpy(), 0,2), vmin=0., vmax=1.)\n",
    "plt.imshow(np.moveaxis((sample[0,:,0,:,:]).cpu().numpy(), 0,2), vmin=0., vmax=1.)\n",
    "plt.imshow(temp[7][0][0])"
   ]
  },
  {
   "cell_type": "code",
   "execution_count": 56,
   "id": "bfac7bb1",
   "metadata": {},
   "outputs": [
    {
     "data": {
      "text/plain": [
       "tensor(1.9507, device='cuda:0')"
      ]
     },
     "execution_count": 56,
     "metadata": {},
     "output_type": "execute_result"
    }
   ],
   "source": [
    "loss = InfoNCE()\n",
    "loss(ot[0:1], ot[1:2], ot[2:])"
   ]
  },
  {
   "cell_type": "code",
   "execution_count": 40,
   "id": "212101aa",
   "metadata": {},
   "outputs": [
    {
     "name": "stdout",
     "output_type": "stream",
     "text": [
      "tensor([4.4990e+08], device='cuda:0')\n",
      "tensor([4.3785e+08, 4.2815e+08, 4.2169e+08, 4.2480e+08, 4.2780e+08, 4.1624e+08],\n",
      "       device='cuda:0')\n",
      "tensor([3.0064e+09], device='cuda:0')\n"
     ]
    },
    {
     "data": {
      "text/plain": [
       "tensor([1.8995], device='cuda:0')"
      ]
     },
     "execution_count": 40,
     "metadata": {},
     "output_type": "execute_result"
    }
   ],
   "source": [
    "#%% Analysis\n",
    "cos = nn.CosineSimilarity()\n",
    "pos = torch.exp(cos(ot[0:1], ot[1:2])/0.05)\n",
    "negs = torch.exp(cos(ot[0:1], ot[2:])/0.05)\n",
    "neg = torch.sum(negs)\n",
    "denominator = pos+neg\n",
    "print(pos)\n",
    "print(negs)\n",
    "print(denominator)\n",
    "-torch.log(pos/denominator)"
   ]
  },
  {
   "cell_type": "code",
   "execution_count": null,
   "id": "a00e4ae5",
   "metadata": {},
   "outputs": [],
   "source": [
    "def get_label_name(idx , pos, gt_id, gt_name): # send [idx[0]]\n",
    "    return gt_name[np.where(gt_id == gt_id[gt_id<idx[pos].numpy()][-1])[0][0]]\n",
    "\n",
    "def verify_supset(pos, idx, s1, gt_id, gt_name, fr = 1 ):\n",
    "    print(get_label_name(idx[0], pos, gt_id, gt_name))\n",
    "    plt.imshow(np.moveaxis((s1[0][pos,:,fr,:,:]).cpu().numpy(), 0,2), vmin=0., vmax=1.)\n",
    "    plt.show()\n",
    "    return\n",
    "\n",
    "\n",
    "LabelDict= {'sitting':0, 'standing':1, 'lying_d':2, 'lying_u':3, 'walking':4, 'push_up':5, 'object_walk':6, 'object_pick':7, 'hand_wave':7, 'leg_exer':9, 'what':10}\n",
    "    \n",
    "\n",
    "def get_key(my_dict, val):\n",
    "    for key, value in my_dict.items():\n",
    "         if val == value:\n",
    "             return key\n",
    "    return \"key doesn't exist\""
   ]
  },
  {
   "cell_type": "code",
   "execution_count": null,
   "id": "6d448a55",
   "metadata": {},
   "outputs": [],
   "source": [
    "activation = {}\n",
    "def get_activation(name):\n",
    "    def hook(model, input, output):\n",
    "        activation[name] = output.detach()\n",
    "    return hook\n",
    "\n",
    "my_net.blocks[0].activation.register_forward_hook(get_activation('l1'))"
   ]
  },
  {
   "cell_type": "code",
   "execution_count": null,
   "id": "5e2d70a3",
   "metadata": {},
   "outputs": [],
   "source": [
    "#%% Test the data-loader section by visualization\n",
    "s1 = next(iter(data_loader))\n",
    "s1_trx = trx(s1)\n",
    "\n",
    "for i in range (7):\n",
    "    plt.imshow(np.moveaxis((s1_trx[0][i,:,0,:,:]).cpu().numpy(), 0,2), vmin=0., vmax=1.)\n",
    "    plt.figure()"
   ]
  },
  {
   "cell_type": "code",
   "execution_count": null,
   "id": "228aad17",
   "metadata": {},
   "outputs": [],
   "source": [
    "sample = s1_trx[0][4:5]\n",
    "\n",
    "sample = sample.cuda()\n",
    "\n",
    "with torch.no_grad():\n",
    "    output = my_net(sample)"
   ]
  },
  {
   "cell_type": "code",
   "execution_count": null,
   "id": "4b452cef",
   "metadata": {},
   "outputs": [],
   "source": [
    "s1_trx[0][5].shape\n",
    "activation['l1'][0].shape"
   ]
  },
  {
   "cell_type": "code",
   "execution_count": null,
   "id": "bc46b752",
   "metadata": {},
   "outputs": [],
   "source": [
    "for i in range (7):\n",
    "    plt.imshow(np.moveaxis((activation['l1'][0][i,0:1,:,:]).cpu().numpy(), 0,2), vmin=0., vmax=1.)\n",
    "    plt.figure()"
   ]
  },
  {
   "cell_type": "code",
   "execution_count": null,
   "id": "c8df126d",
   "metadata": {},
   "outputs": [],
   "source": [
    "label_info ={}\n",
    "\n",
    "label_info[files[0]] = {'gt_id': np.int16([0,     30*30 ,      60*30,     95*30,      125*30,    155*30,      210*30,       240*30,       265*30,     310*30,     345*30]),\n",
    "                       'gt_name': ['sitting', 'standing', 'walking', 'lying_d', 'lying_u', 'object_walk', 'object_pick','hand_wave', 'push_up', 'leg_exer',  'what']}\n",
    "\n",
    "label_info[files[1]] = {'gt_id': np.int16([0,      32*30 ,    66*30,     96*30,      136*30,    196*30,     235*30,     285*30,        310*30,       360*30,   400*30]),\n",
    "                       'gt_name': ['sitting', 'standing', 'lying_d', 'lying_u', 'walking', 'push_up', 'object_walk', 'object_pick', 'hand_wave', 'leg_exer', 'what']}\n",
    "\n",
    "label_info[files[2]] = {'gt_id':np.int16([0,      25*30 ,     60*30,      90*30,     124*30,    160*30,     205*30,         245*30,       280*30,    313*30,     340*30]),\n",
    "                       'gt_name': ['sitting', 'standing',  'walking', 'lying_d', 'lying_u', 'object_walk', 'object_pick', 'hand_wave', 'leg_exer', 'push_up', 'what']}\n",
    "\n",
    "label_info[files[3]] = {'gt_id':np.int16([0,      33*30 ,    60*30,     92*30,      136*30,    180*30,        215*30,         240*30,        260*30,   280*30,   400*30]),\n",
    "                       'gt_name': ['sitting', 'standing',  'walking', 'lying_d', 'lying_u', 'object_walk', 'object_pick', 'hand_wave', 'leg_exer', 'what']}\n",
    "\n",
    "label_info[files[4]] = {'gt_id': np.int16([0,      26*30 ,     60*30,    90*30,      120*30,    150*30,     187*30,     210*30,         218*30,      240*30]),\n",
    "                        'gt_name': ['sitting','standing','walking',  'lying_d', 'lying_u', 'object_walk', 'object_pick', 'hand_wave', 'leg_exer', 'what']}\n",
    "\n",
    "label_info[files[5]] = {'gt_id': np.int16([0,       32*30 ,    60*30,     99*30,      136*30,    180*30,       220*30,          240*30,      260*30,   280*30]),\n",
    "                        'gt_name': ['sitting', 'standing', 'walking', 'lying_d', 'lying_u', 'object_walk', 'object_pick', 'hand_wave', 'leg_exer', 'what']}\n",
    "\n",
    "label_info[files[6]] = {'gt_id': np.int16([0,       34*30 ,      75*30,    115*30,    150*30,    180*30,      230*30,     270*30,     320*30,       375*30,         415*30]),\n",
    "                        'gt_name':['sitting', 'standing', 'walking', 'lying_d', 'lying_u',  'object_walk', 'object_pick', 'push_up',  'leg_exer',  'hand_wave', 'what']}\n",
    "\n",
    "label_info[files[7]] = {'gt_id': np.int16([0,      36*30 ,    76*30,     116*30,    156*30,    200*30,     270*30,        315*30,       370*30,       435*30,    460*30]),\n",
    "                        'gt_name':['sitting', 'standing','walking','lying_d', 'lying_u', 'object_walk', 'object_pick', 'push_up', 'leg_exer', 'hand_wave', 'what']}\n",
    "\n",
    "label_info[files[8]] = {'gt_id': np.int16([0,      34*30 ,      71*30,      113*30,    150*30,   196*30,      255*30,       289*30,       322*30,     340*30,   400*30]),\n",
    "                        'gt_name': ['sitting', 'standing',  'walking', 'lying_d', 'lying_u', 'object_walk', 'push_up', 'object_pick', 'leg_exer', 'what']}\n",
    "\n",
    "label_info[files[9]] = {'gt_id':  \n",
    "                        np.int16([0,      25*30 ,    60*30,      78*30,      110*30,    140*30,     180*30,     205*30,        240*30,     270*30])\n",
    "                        ,'gt_name': \n",
    "                        ['sitting', 'standing', 'walking', 'lying_d', 'lying_u', 'object_walk', 'push_up',  'hand_wave', 'leg_exer', 'what']\n",
    "                       }\n",
    "\n",
    "label_info[files[10]] = {'gt_id': \n",
    "                         np.int16([0,      47*30 ,    92*30,     153*30,      200*30,    250*30,      290*30,     325*30,        360*30,      400*30,   448*30])   \n",
    "                         ,'gt_name': \n",
    "                         ['sitting', 'standing', 'lying_d', 'lying_u', 'walking', 'object_walk', 'object_pick', 'push_up', 'hand_wave', 'leg_exer', 'what'] \n",
    "                        }\n",
    "\n",
    "label_info[files[11]] = {'gt_id': \n",
    "                         np.int16([0,     27*30 ,     60*30,      95*30,      125*30,   165*30,      205*30,      250*30,     280*30,       320*30,      340*30])    \n",
    "                         ,'gt_name': \n",
    "                         ['sitting', 'standing', 'walking', 'lying_d', 'lying_u', 'object_walk', 'object_pick', 'push_up', 'leg_exer',  'hand_wave', 'what']     \n",
    "                        }\n",
    "\n",
    "label_info[files[12]] = {'gt_id': \n",
    "                         np.int16([0,     50*30 ,      78*30,     100*30,    140*30,   177*30,        225*30,        255*30,    296*30,    336*30 ,     356*30])   \n",
    "                         ,'gt_name': \n",
    "                         ['sitting', 'standing', 'walking', 'lying_d', 'lying_u', 'object_walk', 'object_pick', 'push_up', 'leg_exer',  'hand_wave', 'what']     \n",
    "                        }\n",
    "\n",
    "label_info[files[13]] = {'gt_id': \n",
    "                         np.int16([0,      30*30 ,     60*30,      96*30,     140*30,    170*30,        220*30,        240*30,     270*30,     320*30,      365*30]) \n",
    "                         ,'gt_name': \n",
    "                         ['sitting', 'standing', 'walking', 'lying_d', 'lying_u',  'object_walk', 'object_pick', 'push_up',  'leg_exer', 'hand_wave','what']\n",
    "                        }\n",
    "\n",
    "label_info[files[14]] = {'gt_id': \n",
    "                         np.int16([0,     40*30 ,    70*30,       105*30,   164*30,     220*30,       265*30,         280*30,  330*30,      390*30,     440*30])  \n",
    "                         ,'gt_name': \n",
    "                         ['sitting', 'standing', 'walking', 'lying_d', 'lying_u', 'object_walk', 'object_pick', 'push_up', 'leg_exer', 'hand_wave', 'what']    \n",
    "                        }\n",
    "\n",
    "label_info[files[15]] = {'gt_id': \n",
    "                         np.int16([0,       25*30,      60*30,     90*30,     120*30,    160*30,        187*30,         210*30,        235*30,     272*30,    292*30])   \n",
    "                         ,'gt_name': \n",
    "                         ['sitting', 'standing',  'walking', 'lying_d', 'lying_u', 'object_walk',  'object_pick', 'hand_wave', 'leg_exer', 'push_up', 'what']\n",
    "                        }\n",
    "\n",
    "label_info[files[16]] = {'gt_id': \n",
    "                         np.int16([0,      32*30,      65*30,     97*30,   154*30,     210*30,        260*30,         290*30,   306*30,     332*30,      360*30])   \n",
    "                         ,'gt_name': \n",
    "                         ['sitting', 'standing', 'walking', 'lying_d', 'lying_u', 'object_walk', 'object_pick', 'push_up', 'leg_exer', 'hand_wave', 'what']   \n",
    "                        }\n",
    "\n",
    "label_info[files[17]] = {'gt_id': \n",
    "                         np.int16([0,      60*30 ,     115*30,     150*30,    210*30,    270*30,     310*30,        322*30,        370*30,       399*30])             \n",
    "                         ,'gt_name': \n",
    "                         ['sitting', 'walking', 'lying_u', 'lying_d',  'leg_exer',  'push_up', 'object_pick',  'object_walk',  'hand_wave',  'what']       \n",
    "                        }\n",
    "\n",
    "\n",
    "label_info[files[18]] = {'gt_id': \n",
    "                        np.int16([0,      39*30,      68*30,      105*30,   140*30,   180*30,        225*30,        250*30,    278*30,    310*30,       350*30])\n",
    "                        ,'gt_name': \n",
    "                         ['sitting', 'standing', 'walking', 'lying_d', 'lying_u', 'object_walk', 'object_pick', 'push_up', 'leg_exer', 'hand_wave', 'what']\n",
    "                        }\n",
    "\n",
    "label_info[files[19]] = {'gt_id': \n",
    "                         np.int16([0,      27*30,     45*30,      80*30,     115*30,    150*30,       200*30,         240*30,     270*30,  310*30,       340*30])  \n",
    "                         ,'gt_name': \n",
    "                         ['sitting', 'standing', 'walking', 'lying_d', 'lying_u', 'object_walk', 'object_pick', 'push_up', 'leg_exer','hand_wave',  'what']\n",
    "                        }\n",
    "\n",
    "label_info[files[20]] = {'gt_id': \n",
    "                         np.int16([0,   28*30,       54*30,       85*30,        114*30,       145*30,    188*30,     223*30,    255*30,      280*30,       313*30])  \n",
    "                         ,'gt_name': \n",
    "                         ['sitting', 'standing', 'walking', 'object_walk', 'object_pick', 'lying_d', 'lying_u',  'push_up', 'leg_exer', 'hand_wave', 'what']\n",
    "                        }\n",
    "\n",
    "label_info[files[21]] = {'gt_id': \n",
    "                         np.int16([0,      25*30 ,     55*30,     95*30,      122*30,          150*30,     185*30,     220*30,     257*30,     287*30,     310*30])\n",
    "                         ,'gt_name': \n",
    "                         ['sitting', 'standing', 'walking', 'object_walk', 'object_pick', 'lying_d', 'lying_u',  'push_up',  'leg_exer',  'hand_wave', 'what']\n",
    "                        }\n",
    "\n",
    "label_info[files[22]] = {'gt_id': \n",
    "                         np.int16([0,      25*30 ,    60*30,      93*30,      126*30,    160*30,      210*30,        235*30,      260*30,     300*30,     312*30])      \n",
    "                         ,'gt_name': \n",
    "                         ['sitting', 'standing', 'walking', 'lying_d', 'lying_u','object_walk', 'object_pick', 'push_up',  'leg_exer', 'hand_wave',  'what']\n",
    "                        }\n",
    "\n",
    "label_info[files[23]] = {'gt_id': \n",
    "                         np.int16([0,      27*30 ,    60*30,      92*30,        120*30,        150*30,     190*30,     225*30,    250*30,     277*30,     293*30])  \n",
    "                         ,'gt_name': \n",
    "                         ['sitting', 'standing', 'walking', 'object_walk', 'object_pick', 'lying_d', 'lying_u',  'push_up', 'leg_exer', 'hand_wave',  'what']\n",
    "                        }\n",
    "\n",
    "label_info[files[24]] = {'gt_id': \n",
    "                         np.int16([0,      43*30 ,    73*30,     105*30,     145*30,    176*30,       225*30,         247*30,     285*30,    320*30,       350*30]) \n",
    "                         ,'gt_name': \n",
    "                         ['sitting', 'standing', 'walking', 'lying_d', 'lying_u', 'object_walk', 'object_pick', 'push_up', 'leg_exer', 'hand_wave',  'what']\n",
    "                        }\n",
    "\n",
    "label_info[files[25]] = {'gt_id': \n",
    "                         np.int16([0,     27*30 ,    58*30,       80*30,     110*30,    140*30,       200*30,        230*30,     260*30,    325*30,      355*30])\n",
    "                         ,'gt_name': \n",
    "                         ['sitting', 'standing', 'walking', 'lying_d', 'lying_u', 'object_walk', 'object_pick', 'push_up', 'leg_exer', 'hand_wave', 'what']\n",
    "                        }\n",
    "\n",
    "\n",
    "label_info[files[26]] = {'gt_id': \n",
    "                         np.int16([0,       28*30 ,     60*30,     93*30,         133*30,    170*30,    210*30,     230*30,      270*30,         312*30,     350*30])\n",
    "                         ,'gt_name': \n",
    "                         ['sitting', 'standing', 'walking',  'object_walk', 'lying_d', 'lying_u',  'push_up',  'leg_exer', 'object_pick',  'hand_wave', 'what']\n",
    "                        }\n",
    "\n",
    "label_info[files[27]] = {'gt_id':\n",
    "                         np.int16([0,      18*30 ,    75*30,      115*30,   175*30,     220*30,        265*30,         314*30,     375*30,     425*30,      455*30])  \n",
    "                         ,'gt_name': \n",
    "                         ['sitting', 'standing','walking', 'lying_d', 'lying_u',  'object_pick', 'object_walk',  'push_up',  'leg_exer', 'hand_wave','what']\n",
    "                        }\n",
    "\n",
    "label_info[files[28]] = {'gt_id':\n",
    "                         np.int16([0,      32*30 ,     60*30,     110*30,     132*30,    166*30,        205*30,       243*30,      268*30,    306*30,       336*30])  \n",
    "                         ,'gt_name': \n",
    "                         ['sitting', 'standing', 'walking', 'lying_d', 'lying_u',  'object_pick', 'object_walk', 'push_up', 'leg_exer', 'hand_wave',  'what']   \n",
    "                        }"
   ]
  },
  {
   "cell_type": "code",
   "execution_count": null,
   "id": "4efaf928",
   "metadata": {},
   "outputs": [],
   "source": [
    "with open('label_info.pkl', 'wb') as f:\n",
    "    pickle.dump(label_info, f)"
   ]
  },
  {
   "cell_type": "code",
   "execution_count": null,
   "id": "446a2219",
   "metadata": {},
   "outputs": [],
   "source": [
    "loss = nn.CrossEntropyLoss()\n",
    "input = torch.randn(3, 5, requires_grad=True)\n",
    "target = torch.empty(3, dtype=torch.long).random_(5)\n",
    "output = loss(input, target)\n",
    "output.backward()\n",
    "\n",
    "\n",
    "\n",
    "import torch.nn.functional as F\n",
    "targ = F.one_hot(target, num_classes = 5)\n",
    "targ = targ.to(torch.float)\n",
    "target1 = torch.randn(3, 5).softmax(dim=1)\n",
    "opt = loss(input, targ)"
   ]
  }
 ],
 "metadata": {
  "kernelspec": {
   "display_name": "Python 3 (ipykernel)",
   "language": "python",
   "name": "python3"
  },
  "language_info": {
   "codemirror_mode": {
    "name": "ipython",
    "version": 3
   },
   "file_extension": ".py",
   "mimetype": "text/x-python",
   "name": "python",
   "nbconvert_exporter": "python",
   "pygments_lexer": "ipython3",
   "version": "3.8.12"
  }
 },
 "nbformat": 4,
 "nbformat_minor": 5
}
