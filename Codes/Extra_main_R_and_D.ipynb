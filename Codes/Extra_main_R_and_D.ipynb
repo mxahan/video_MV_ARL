{
 "cells": [
  {
   "cell_type": "code",
   "execution_count": null,
   "id": "4066a30a",
   "metadata": {},
   "outputs": [],
   "source": [
    "#%% Training Loop 1 (dataloader) [not important]\n",
    "j = 0\n",
    "for sample in data_loader:    \n",
    "    sample = sample.cuda()\n",
    "    optimizer.zero_grad()   # zero the gradient buffers\n",
    "    output = tan_m(net(sample[0]))\n",
    "    loss1 = L(output[0:1], output[1:2], output[2:3])\n",
    "    loss1.backward()\n",
    "\n",
    "    optimizer.step()   #%%\n",
    "    if j%500==0:\n",
    "        print(loss1.cpu())\n",
    "        # pdb.set_trace()\n",
    "    j= j+1"
   ]
  },
  {
   "cell_type": "code",
   "execution_count": null,
   "id": "17f89f05",
   "metadata": {},
   "outputs": [],
   "source": [
    "#%% Alternate Training Loop (functional) [not important ]\n",
    "\n",
    "tdc =  test_data(temp)\n",
    "j = 0\n",
    "net.train()\n",
    "for _ in range(1):\n",
    "    sample = torch.from_numpy(tdc.get_data_Triplet())\n",
    "    sample = sample.cuda()\n",
    "    optimizer.zero_grad()   # zero the gradient buffers\n",
    "    output = tan_m(net(sample))\n",
    "    loss1 = L(output[0:1], output[1:2],output[2:3])\n",
    "    loss1.backward()\n",
    "    if j%2000==0:\n",
    "        print(loss1.cpu())\n",
    "        # pdb.set_trace()\n",
    "    optimizer.step()   #%%\n",
    "    j= j+1"
   ]
  },
  {
   "cell_type": "code",
   "execution_count": null,
   "id": "3c19e0e8",
   "metadata": {},
   "outputs": [],
   "source": [
    "#%% SimCLR training loop (functional loop not efficient)\n",
    "\n",
    "optimizer = torch.optim.Adam(net.parameters(), lr=1e-4)\n",
    "\n",
    "\n",
    "L= NT_Xent(batch_size=2, temperature=0.8, world_size=1)\n",
    "L= L.cuda()\n",
    "\n",
    "tdc =  test_data(temp) # temp should be one pickle file\n",
    "j = 0\n",
    "net.train()\n",
    "\n",
    "\n",
    "for _ in range(10000):\n",
    "    s1, s2 = torch.from_numpy(tdc.get_SIMCLR_data()[0]), torch.from_numpy(tdc.get_SIMCLR_data()[1]) \n",
    "    s1, s2 =  s1.cuda(), s2.cuda()\n",
    "    optimizer.zero_grad()   # zero the gradient buffers\n",
    "    o1, o2 = net(s1),  net(s2)\n",
    "    loss1 = L(o1, o2)\n",
    "    loss1.backward()\n",
    "    optimizer.step() \n",
    "    if j%500==0:\n",
    "        print(loss1.cpu())\n",
    "        # pdb.set_trace()\n",
    "    j= j+1"
   ]
  },
  {
   "cell_type": "code",
   "execution_count": null,
   "id": "f304aa69",
   "metadata": {},
   "outputs": [],
   "source": [
    "class DummyDatasetMADA(data.Dataset):\n",
    "    def __init__(self, window_size, n_channel, n_classes, n_samples):\n",
    "        self.X = np.random.rand(n_samples, n_channel, window_size, 1)\n",
    "        self.y = np.random.randint(n_classes, size=(n_samples,))\n",
    "\n",
    "    def __getitem__(self, index):\n",
    "        return self.X[index], self.y[index]\n",
    "\n",
    "    def __len__(self):\n",
    "        return self.X.shape[0]"
   ]
  },
  {
   "cell_type": "code",
   "execution_count": null,
   "id": "301fc3e0",
   "metadata": {},
   "outputs": [],
   "source": [
    "#%% Test the data-loader section\n",
    "s1, s2 = next(iter(data_loader))\n",
    "xx = torch.cat((s1[0], s2[0]), 0)\n",
    "xx.shape"
   ]
  },
  {
   "cell_type": "code",
   "execution_count": null,
   "id": "88c2adea",
   "metadata": {},
   "outputs": [],
   "source": [
    "#%% Test the data-loader section by visualization\n",
    "s1,s2= next(iter(data_loader))\n",
    "s1_trx = trx(s1)\n",
    "for i in range (7):\n",
    "    plt.imshow(np.moveaxis((s1[0][i,:,0,:,:]).cpu().numpy(), 0,2), vmin=0., vmax=1.)\n",
    "    plt.figure()\n",
    "    plt.imshow(np.moveaxis((s2[0][i,:,0,:,:]).cpu().numpy(), 0,2), vmin=0., vmax=1.)\n",
    "    plt.figure()"
   ]
  },
  {
   "cell_type": "code",
   "execution_count": 12,
   "id": "82949cf3",
   "metadata": {},
   "outputs": [],
   "source": []
  },
  {
   "cell_type": "code",
   "execution_count": null,
   "id": "8b4d2df5",
   "metadata": {},
   "outputs": [],
   "source": [
    "s1 = next(iter(data_loader))\n",
    "\n",
    "with torch.no_grad():\n",
    "    net.train()\n",
    "    s1 = trx(s1)\n",
    "    s1= s1[0].cuda()\n",
    "    opt = net(s1)\n",
    "    opt0 = net(s1[0:1])\n",
    "    \n",
    "print(opt[1])\n",
    "print(opt0)\n"
   ]
  },
  {
   "cell_type": "code",
   "execution_count": null,
   "id": "a6e8d64b",
   "metadata": {},
   "outputs": [],
   "source": [
    "#%% some data visualization\n",
    "plt.imshow(np.moveaxis((sample[0,:,0,:,:]).cpu().numpy(), 0,2), vmin=0., vmax=1.)\n",
    "plt.imshow(np.moveaxis((sample[0,:,0,:,:]).cpu().numpy(), 0,2), vmin=0., vmax=1.)\n",
    "plt.imshow(temp[7][0][0])"
   ]
  },
  {
   "cell_type": "code",
   "execution_count": 56,
   "id": "1a3dd691",
   "metadata": {},
   "outputs": [
    {
     "data": {
      "text/plain": [
       "tensor(1.9507, device='cuda:0')"
      ]
     },
     "execution_count": 56,
     "metadata": {},
     "output_type": "execute_result"
    }
   ],
   "source": [
    "loss = InfoNCE()\n",
    "loss(ot[0:1], ot[1:2], ot[2:])"
   ]
  },
  {
   "cell_type": "code",
   "execution_count": 40,
   "id": "205648c0",
   "metadata": {},
   "outputs": [
    {
     "name": "stdout",
     "output_type": "stream",
     "text": [
      "tensor([4.4990e+08], device='cuda:0')\n",
      "tensor([4.3785e+08, 4.2815e+08, 4.2169e+08, 4.2480e+08, 4.2780e+08, 4.1624e+08],\n",
      "       device='cuda:0')\n",
      "tensor([3.0064e+09], device='cuda:0')\n"
     ]
    },
    {
     "data": {
      "text/plain": [
       "tensor([1.8995], device='cuda:0')"
      ]
     },
     "execution_count": 40,
     "metadata": {},
     "output_type": "execute_result"
    }
   ],
   "source": [
    "#%% Analysis\n",
    "cos = nn.CosineSimilarity()\n",
    "pos = torch.exp(cos(ot[0:1], ot[1:2])/0.05)\n",
    "negs = torch.exp(cos(ot[0:1], ot[2:])/0.05)\n",
    "neg = torch.sum(negs)\n",
    "denominator = pos+neg\n",
    "print(pos)\n",
    "print(negs)\n",
    "print(denominator)\n",
    "-torch.log(pos/denominator)"
   ]
  }
 ],
 "metadata": {
  "kernelspec": {
   "display_name": "Python 3 (ipykernel)",
   "language": "python",
   "name": "python3"
  },
  "language_info": {
   "codemirror_mode": {
    "name": "ipython",
    "version": 3
   },
   "file_extension": ".py",
   "mimetype": "text/x-python",
   "name": "python",
   "nbconvert_exporter": "python",
   "pygments_lexer": "ipython3",
   "version": "3.8.12"
  }
 },
 "nbformat": 4,
 "nbformat_minor": 5
}
